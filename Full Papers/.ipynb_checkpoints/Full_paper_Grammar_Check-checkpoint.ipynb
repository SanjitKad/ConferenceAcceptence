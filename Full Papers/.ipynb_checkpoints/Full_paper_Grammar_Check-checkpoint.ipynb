{
 "cells": [
  {
   "cell_type": "code",
   "execution_count": 1,
   "metadata": {},
   "outputs": [],
   "source": [
    "import os\n",
    "import json\n",
    "import pandas as pd\n",
    "from tqdm import tqdm\n",
    "import numpy as np"
   ]
  },
  {
   "cell_type": "code",
   "execution_count": 2,
   "metadata": {},
   "outputs": [],
   "source": [
    "paths = [r\"C:\\Users\\Sanjit\\Documents\\Finnopt\\Conference_Acceptance\\PeerRead\\data\\acl_2017\\train\\parsed_pdfs\",\n",
    "        r\"C:\\Users\\Sanjit\\Documents\\Finnopt\\Conference_Acceptance\\PeerRead\\data\\arxiv.cs.ai_2007-2017\\train\\parsed_pdfs\",\n",
    "        r\"C:\\Users\\Sanjit\\Documents\\Finnopt\\Conference_Acceptance\\PeerRead\\data\\arxiv.cs.cl_2007-2017\\train\\parsed_pdfs\",\n",
    "        r\"C:\\Users\\Sanjit\\Documents\\Finnopt\\Conference_Acceptance\\PeerRead\\data\\arxiv.cs.lg_2007-2017\\train\\parsed_pdfs\"]\n",
    "total_text = []\n",
    "df = pd.DataFrame(columns = [\"title+abstract\",\"references\",\"emails\",\"conference\",\"accepted\"])\n",
    "acceptence_data = pd.read_csv(\"acceptence_dataframe.csv\") "
   ]
  },
  {
   "cell_type": "code",
   "execution_count": 3,
   "metadata": {},
   "outputs": [
    {
     "name": "stderr",
     "output_type": "stream",
     "text": [
      "123it [00:00, 253.24it/s]                                                                        | 0/4 [00:00<?, ?it/s]\n",
      "3682it [00:34, 105.60it/s]                                                               | 1/4 [00:00<00:01,  2.05it/s]\n",
      "2374it [00:16, 139.76it/s]█████████████████████                                          | 2/4 [00:35<00:21, 10.81s/it]\n",
      "4543it [00:41, 98.61it/s] ██████████████████████████████████████████                     | 3/4 [00:52<00:12, 12.66s/it]\n",
      "100%|████████████████████████████████████████████████████████████████████████████████████| 4/4 [01:33<00:00, 21.19s/it]\n"
     ]
    }
   ],
   "source": [
    "for i in tqdm(paths, position=0, leave=True):\n",
    "    json_files = [pos_json for pos_json in os.listdir(i) if pos_json.endswith('.json')]\n",
    "    \n",
    "    for index, js in tqdm(enumerate(json_files), position=0, leave=True):\n",
    "        with open(os.path.join(i, js), encoding='utf-8') as json_file:\n",
    "            json_text = json.load(json_file)\n",
    "            total_text = \"\"\n",
    "            try:\n",
    "                for section in json_text[\"metadata\"][\"sections\"]:\n",
    "                    total_text = total_text + str(section[\"text\"])\n",
    "                    total_text = total_text + \" \"\n",
    "            except:\n",
    "                b = 0\n",
    "            mails = str(json_text[\"metadata\"][\"emails\"])\n",
    "            ref = json_text[\"metadata\"][\"references\"]\n",
    "            temp_dict = {\"content\" : str(total_text), \"emails\" : mails , \"references\" : ref}\n",
    "            df = df.append(temp_dict, ignore_index=True)\n",
    "            "
   ]
  },
  {
   "cell_type": "code",
   "execution_count": 4,
   "metadata": {},
   "outputs": [],
   "source": [
    "df[\"accepted\"] = acceptence_data[\"accepted\"]\n",
    "df[\"title+abstract\"] = acceptence_data[\"title\"]\n",
    "df[\"conference\"] = acceptence_data[\"conference\"]"
   ]
  },
  {
   "cell_type": "code",
   "execution_count": null,
   "metadata": {},
   "outputs": [],
   "source": []
  },
  {
   "cell_type": "code",
   "execution_count": null,
   "metadata": {},
   "outputs": [],
   "source": []
  },
  {
   "cell_type": "markdown",
   "metadata": {},
   "source": [
    "references section"
   ]
  },
  {
   "cell_type": "code",
   "execution_count": 5,
   "metadata": {},
   "outputs": [
    {
     "name": "stderr",
     "output_type": "stream",
     "text": [
      "  0%|                                                                                        | 0/10722 [00:00<?, ?it/s]C:\\Users\\Sanjit\\Anaconda3\\lib\\site-packages\\ipykernel_launcher.py:9: DeprecationWarning: elementwise comparison failed; this will raise an error in the future.\n",
      "  if __name__ == '__main__':\n",
      "C:\\Users\\Sanjit\\Anaconda3\\lib\\site-packages\\ipykernel_launcher.py:9: DeprecationWarning: The truth value of an empty array is ambiguous. Returning False, but in future this will result in an error. Use `array.size > 0` to check that an array is not empty.\n",
      "  if __name__ == '__main__':\n",
      "100%|██████████████████████████████████████████████████████████████████████████| 10722/10722 [00:02<00:00, 4207.47it/s]\n"
     ]
    }
   ],
   "source": [
    "\n",
    "\n",
    "df[\"ref_total_counter\"] = 0\n",
    "df[\"ref_aaai\"]  = 0\n",
    "df[\"ref_acl\"]   = 0\n",
    "df[\"ref_emnlp\"] = 0\n",
    "df[\"ref_naacl\"] = 0\n",
    "df[\"iclr\"]      = 0\n",
    "df[\"nips\"]      = 0\n",
    "for n,i in tqdm(enumerate(df[\"references\"]), total = df.shape[0], position = 0 , leave = True):\n",
    "    if np.array(i) == []:\n",
    "        continue   \n",
    "    df.at[n,\"ref_total_counter\"] = len(np.array(i))\n",
    "    i = str(i)\n",
    "    i = i.replace('\\W', '')\n",
    "    i = i.lower()\n",
    "    df.at[n,\"ref_aaai\"]  = str(i).count(\"aaai\")\n",
    "    df.at[n,\"ref_acl\"]   = str(i).count(\"acl\")\n",
    "    df.at[n,\"ref_emnlp\"] = str(i).count(\"emnlp\")\n",
    "    df.at[n,\"ref_naacl\"] = str(i).count(\"naacl\")\n",
    "    df.at[n,\"ref_iclr\"]      = str(i).count(\"iclr\")\n",
    "    df.at[n,\"ref_nips\"]      = str(i).count(\"nips\")"
   ]
  },
  {
   "cell_type": "code",
   "execution_count": null,
   "metadata": {},
   "outputs": [],
   "source": []
  },
  {
   "cell_type": "code",
   "execution_count": 6,
   "metadata": {},
   "outputs": [
    {
     "data": {
      "text/html": [
       "<div>\n",
       "<style scoped>\n",
       "    .dataframe tbody tr th:only-of-type {\n",
       "        vertical-align: middle;\n",
       "    }\n",
       "\n",
       "    .dataframe tbody tr th {\n",
       "        vertical-align: top;\n",
       "    }\n",
       "\n",
       "    .dataframe thead th {\n",
       "        text-align: right;\n",
       "    }\n",
       "</style>\n",
       "<table border=\"1\" class=\"dataframe\">\n",
       "  <thead>\n",
       "    <tr style=\"text-align: right;\">\n",
       "      <th></th>\n",
       "      <th>title+abstract</th>\n",
       "      <th>references</th>\n",
       "      <th>emails</th>\n",
       "      <th>conference</th>\n",
       "      <th>accepted</th>\n",
       "      <th>content</th>\n",
       "      <th>ref_total_counter</th>\n",
       "      <th>ref_aaai</th>\n",
       "      <th>ref_acl</th>\n",
       "      <th>ref_emnlp</th>\n",
       "      <th>ref_naacl</th>\n",
       "      <th>iclr</th>\n",
       "      <th>nips</th>\n",
       "      <th>ref_iclr</th>\n",
       "      <th>ref_nips</th>\n",
       "    </tr>\n",
       "  </thead>\n",
       "  <tbody>\n",
       "    <tr>\n",
       "      <th>0</th>\n",
       "      <td>Bridge Text and Knowledge by Learning Multi-Pr...</td>\n",
       "      <td>[{'title': 'Efficient string matching: an aid ...</td>\n",
       "      <td>[]</td>\n",
       "      <td>ACL</td>\n",
       "      <td>1</td>\n",
       "      <td>1 000\\n011\\n012\\n013\\n014\\n015\\n016\\n017\\n018\\...</td>\n",
       "      <td>46</td>\n",
       "      <td>0</td>\n",
       "      <td>8</td>\n",
       "      <td>4</td>\n",
       "      <td>2</td>\n",
       "      <td>0</td>\n",
       "      <td>0</td>\n",
       "      <td>0.0</td>\n",
       "      <td>1.0</td>\n",
       "    </tr>\n",
       "    <tr>\n",
       "      <th>1</th>\n",
       "      <td>Morphological Inflection Generation with Hard ...</td>\n",
       "      <td>[{'title': 'Paradigm classification in supervi...</td>\n",
       "      <td>[]</td>\n",
       "      <td>ACL</td>\n",
       "      <td>1</td>\n",
       "      <td>1 000\\n011\\n012\\n013\\n014\\n015\\n016\\n017\\n018\\...</td>\n",
       "      <td>36</td>\n",
       "      <td>0</td>\n",
       "      <td>13</td>\n",
       "      <td>3</td>\n",
       "      <td>5</td>\n",
       "      <td>0</td>\n",
       "      <td>0</td>\n",
       "      <td>0.0</td>\n",
       "      <td>0.0</td>\n",
       "    </tr>\n",
       "    <tr>\n",
       "      <th>2</th>\n",
       "      <td>Weakly Supervised Cross-Lingual Named Entity R...</td>\n",
       "      <td>[]</td>\n",
       "      <td>[]</td>\n",
       "      <td>ACL</td>\n",
       "      <td>1</td>\n",
       "      <td>1 000\\n010\\n011\\n012\\n013\\n014\\n015\\n016\\n017\\...</td>\n",
       "      <td>0</td>\n",
       "      <td>0</td>\n",
       "      <td>0</td>\n",
       "      <td>0</td>\n",
       "      <td>0</td>\n",
       "      <td>0</td>\n",
       "      <td>0</td>\n",
       "      <td>0.0</td>\n",
       "      <td>0.0</td>\n",
       "    </tr>\n",
       "    <tr>\n",
       "      <th>3</th>\n",
       "      <td>A Multigraph-based Model for Overlapping Entit...</td>\n",
       "      <td>[{'title': 'Recognising Nested Named Entities ...</td>\n",
       "      <td>[]</td>\n",
       "      <td>ACL</td>\n",
       "      <td>0</td>\n",
       "      <td>1 000\\n011\\n012\\n013\\n014\\n015\\n016\\n017\\n018\\...</td>\n",
       "      <td>21</td>\n",
       "      <td>0</td>\n",
       "      <td>2</td>\n",
       "      <td>1</td>\n",
       "      <td>2</td>\n",
       "      <td>0</td>\n",
       "      <td>0</td>\n",
       "      <td>0.0</td>\n",
       "      <td>0.0</td>\n",
       "    </tr>\n",
       "    <tr>\n",
       "      <th>4</th>\n",
       "      <td>Improved Neural Relation Detection for Knowled...</td>\n",
       "      <td>[{'title': 'Constraint-based question answerin...</td>\n",
       "      <td>[]</td>\n",
       "      <td>ACL</td>\n",
       "      <td>1</td>\n",
       "      <td>1 000\\n011\\n012\\n013\\n014\\n015\\n016\\n017\\n018\\...</td>\n",
       "      <td>30</td>\n",
       "      <td>0</td>\n",
       "      <td>4</td>\n",
       "      <td>0</td>\n",
       "      <td>0</td>\n",
       "      <td>0</td>\n",
       "      <td>0</td>\n",
       "      <td>0.0</td>\n",
       "      <td>0.0</td>\n",
       "    </tr>\n",
       "  </tbody>\n",
       "</table>\n",
       "</div>"
      ],
      "text/plain": [
       "                                      title+abstract  \\\n",
       "0  Bridge Text and Knowledge by Learning Multi-Pr...   \n",
       "1  Morphological Inflection Generation with Hard ...   \n",
       "2  Weakly Supervised Cross-Lingual Named Entity R...   \n",
       "3  A Multigraph-based Model for Overlapping Entit...   \n",
       "4  Improved Neural Relation Detection for Knowled...   \n",
       "\n",
       "                                          references emails conference  \\\n",
       "0  [{'title': 'Efficient string matching: an aid ...     []        ACL   \n",
       "1  [{'title': 'Paradigm classification in supervi...     []        ACL   \n",
       "2                                                 []     []        ACL   \n",
       "3  [{'title': 'Recognising Nested Named Entities ...     []        ACL   \n",
       "4  [{'title': 'Constraint-based question answerin...     []        ACL   \n",
       "\n",
       "   accepted                                            content  \\\n",
       "0         1  1 000\\n011\\n012\\n013\\n014\\n015\\n016\\n017\\n018\\...   \n",
       "1         1  1 000\\n011\\n012\\n013\\n014\\n015\\n016\\n017\\n018\\...   \n",
       "2         1  1 000\\n010\\n011\\n012\\n013\\n014\\n015\\n016\\n017\\...   \n",
       "3         0  1 000\\n011\\n012\\n013\\n014\\n015\\n016\\n017\\n018\\...   \n",
       "4         1  1 000\\n011\\n012\\n013\\n014\\n015\\n016\\n017\\n018\\...   \n",
       "\n",
       "   ref_total_counter  ref_aaai  ref_acl  ref_emnlp  ref_naacl  iclr  nips  \\\n",
       "0                 46         0        8          4          2     0     0   \n",
       "1                 36         0       13          3          5     0     0   \n",
       "2                  0         0        0          0          0     0     0   \n",
       "3                 21         0        2          1          2     0     0   \n",
       "4                 30         0        4          0          0     0     0   \n",
       "\n",
       "   ref_iclr  ref_nips  \n",
       "0       0.0       1.0  \n",
       "1       0.0       0.0  \n",
       "2       0.0       0.0  \n",
       "3       0.0       0.0  \n",
       "4       0.0       0.0  "
      ]
     },
     "execution_count": 6,
     "metadata": {},
     "output_type": "execute_result"
    }
   ],
   "source": [
    "df.head()"
   ]
  },
  {
   "cell_type": "markdown",
   "metadata": {},
   "source": [
    "The cleaning section"
   ]
  },
  {
   "cell_type": "code",
   "execution_count": 7,
   "metadata": {},
   "outputs": [],
   "source": [
    "import re\n",
    "\n",
    "df[\"content\"] = df[\"content\"].replace(r'\\n',' ', regex=True) \n",
    "df['content'] = df['content'].str.replace('\\d+', ' ')\n",
    "df[\"content\"] = df[\"content\"].replace('\\s+', ' ', regex=True)\n",
    "df[\"conference\"] = df[\"conference\"].str.lower()\n",
    "\n",
    "# Cant remove everything within brackets. Can remove lage parts of the text\n",
    "# df[\"content\"] = df['content'].str.replace(r\"\\(.*\\)\",\"\")"
   ]
  },
  {
   "cell_type": "markdown",
   "metadata": {},
   "source": [
    "Treating the emails to extract the names and universities"
   ]
  },
  {
   "cell_type": "code",
   "execution_count": 8,
   "metadata": {},
   "outputs": [],
   "source": [
    "df['emails'] = df['emails'].str.replace('\\W', ' ')"
   ]
  },
  {
   "cell_type": "markdown",
   "metadata": {},
   "source": [
    "One hot encoding the conferences"
   ]
  },
  {
   "cell_type": "code",
   "execution_count": 9,
   "metadata": {},
   "outputs": [],
   "source": [
    "# df = pd.concat([df , pd.get_dummies(df['conference']).multiply(df[\"accepted\"],axis=\"index\")], axis = 1)"
   ]
  },
  {
   "cell_type": "code",
   "execution_count": 10,
   "metadata": {},
   "outputs": [],
   "source": [
    "# df = df.drop([\"conference\"], axis=1)\n",
    "df[\"conference\"] = df[\"conference\"].astype('str') ;"
   ]
  },
  {
   "cell_type": "code",
   "execution_count": 11,
   "metadata": {},
   "outputs": [
    {
     "name": "stderr",
     "output_type": "stream",
     "text": [
      "100%|████████████████████████████████████████████████████████████████████████| 10722/10722 [00:00<00:00, 191824.46it/s]\n"
     ]
    }
   ],
   "source": [
    "# df[\"none\"] = 0\n",
    "for n,i in tqdm(enumerate(df[\"accepted\"]), total = df.shape[0], position = 0 , leave = True):\n",
    "    if i == 0.0:\n",
    "        df.at[n,\"conference\"] = \"none\""
   ]
  },
  {
   "cell_type": "code",
   "execution_count": 12,
   "metadata": {},
   "outputs": [
    {
     "data": {
      "text/html": [
       "<div>\n",
       "<style scoped>\n",
       "    .dataframe tbody tr th:only-of-type {\n",
       "        vertical-align: middle;\n",
       "    }\n",
       "\n",
       "    .dataframe tbody tr th {\n",
       "        vertical-align: top;\n",
       "    }\n",
       "\n",
       "    .dataframe thead th {\n",
       "        text-align: right;\n",
       "    }\n",
       "</style>\n",
       "<table border=\"1\" class=\"dataframe\">\n",
       "  <thead>\n",
       "    <tr style=\"text-align: right;\">\n",
       "      <th></th>\n",
       "      <th>title+abstract</th>\n",
       "      <th>references</th>\n",
       "      <th>emails</th>\n",
       "      <th>conference</th>\n",
       "      <th>accepted</th>\n",
       "      <th>content</th>\n",
       "      <th>ref_total_counter</th>\n",
       "      <th>ref_aaai</th>\n",
       "      <th>ref_acl</th>\n",
       "      <th>ref_emnlp</th>\n",
       "      <th>ref_naacl</th>\n",
       "      <th>iclr</th>\n",
       "      <th>nips</th>\n",
       "      <th>ref_iclr</th>\n",
       "      <th>ref_nips</th>\n",
       "    </tr>\n",
       "  </thead>\n",
       "  <tbody>\n",
       "    <tr>\n",
       "      <th>0</th>\n",
       "      <td>Bridge Text and Knowledge by Learning Multi-Pr...</td>\n",
       "      <td>[{'title': 'Efficient string matching: an aid ...</td>\n",
       "      <td></td>\n",
       "      <td>acl</td>\n",
       "      <td>1</td>\n",
       "      <td>Introduction Jointly learning text and knowle...</td>\n",
       "      <td>46</td>\n",
       "      <td>0</td>\n",
       "      <td>8</td>\n",
       "      <td>4</td>\n",
       "      <td>2</td>\n",
       "      <td>0</td>\n",
       "      <td>0</td>\n",
       "      <td>0.0</td>\n",
       "      <td>1.0</td>\n",
       "    </tr>\n",
       "    <tr>\n",
       "      <th>1</th>\n",
       "      <td>Morphological Inflection Generation with Hard ...</td>\n",
       "      <td>[{'title': 'Paradigm classification in supervi...</td>\n",
       "      <td></td>\n",
       "      <td>acl</td>\n",
       "      <td>1</td>\n",
       "      <td>We present a neural model for morphological i...</td>\n",
       "      <td>36</td>\n",
       "      <td>0</td>\n",
       "      <td>13</td>\n",
       "      <td>3</td>\n",
       "      <td>5</td>\n",
       "      <td>0</td>\n",
       "      <td>0</td>\n",
       "      <td>0.0</td>\n",
       "      <td>0.0</td>\n",
       "    </tr>\n",
       "    <tr>\n",
       "      <th>2</th>\n",
       "      <td>Weakly Supervised Cross-Lingual Named Entity R...</td>\n",
       "      <td>[]</td>\n",
       "      <td></td>\n",
       "      <td>acl</td>\n",
       "      <td>1</td>\n",
       "      <td>Named entity recognition (NER) is a fundament...</td>\n",
       "      <td>0</td>\n",
       "      <td>0</td>\n",
       "      <td>0</td>\n",
       "      <td>0</td>\n",
       "      <td>0</td>\n",
       "      <td>0</td>\n",
       "      <td>0</td>\n",
       "      <td>0.0</td>\n",
       "      <td>0.0</td>\n",
       "    </tr>\n",
       "    <tr>\n",
       "      <th>3</th>\n",
       "      <td>A Multigraph-based Model for Overlapping Entit...</td>\n",
       "      <td>[{'title': 'Recognising Nested Named Entities ...</td>\n",
       "      <td></td>\n",
       "      <td>none</td>\n",
       "      <td>0</td>\n",
       "      <td>Named entity recognition (NER), or in general...</td>\n",
       "      <td>21</td>\n",
       "      <td>0</td>\n",
       "      <td>2</td>\n",
       "      <td>1</td>\n",
       "      <td>2</td>\n",
       "      <td>0</td>\n",
       "      <td>0</td>\n",
       "      <td>0.0</td>\n",
       "      <td>0.0</td>\n",
       "    </tr>\n",
       "    <tr>\n",
       "      <th>4</th>\n",
       "      <td>Improved Neural Relation Detection for Knowled...</td>\n",
       "      <td>[{'title': 'Constraint-based question answerin...</td>\n",
       "      <td></td>\n",
       "      <td>acl</td>\n",
       "      <td>1</td>\n",
       "      <td>Knowledge Base Question-Answering (KBQA) syst...</td>\n",
       "      <td>30</td>\n",
       "      <td>0</td>\n",
       "      <td>4</td>\n",
       "      <td>0</td>\n",
       "      <td>0</td>\n",
       "      <td>0</td>\n",
       "      <td>0</td>\n",
       "      <td>0.0</td>\n",
       "      <td>0.0</td>\n",
       "    </tr>\n",
       "  </tbody>\n",
       "</table>\n",
       "</div>"
      ],
      "text/plain": [
       "                                      title+abstract  \\\n",
       "0  Bridge Text and Knowledge by Learning Multi-Pr...   \n",
       "1  Morphological Inflection Generation with Hard ...   \n",
       "2  Weakly Supervised Cross-Lingual Named Entity R...   \n",
       "3  A Multigraph-based Model for Overlapping Entit...   \n",
       "4  Improved Neural Relation Detection for Knowled...   \n",
       "\n",
       "                                          references emails conference  \\\n",
       "0  [{'title': 'Efficient string matching: an aid ...               acl   \n",
       "1  [{'title': 'Paradigm classification in supervi...               acl   \n",
       "2                                                 []               acl   \n",
       "3  [{'title': 'Recognising Nested Named Entities ...              none   \n",
       "4  [{'title': 'Constraint-based question answerin...               acl   \n",
       "\n",
       "   accepted                                            content  \\\n",
       "0         1   Introduction Jointly learning text and knowle...   \n",
       "1         1   We present a neural model for morphological i...   \n",
       "2         1   Named entity recognition (NER) is a fundament...   \n",
       "3         0   Named entity recognition (NER), or in general...   \n",
       "4         1   Knowledge Base Question-Answering (KBQA) syst...   \n",
       "\n",
       "   ref_total_counter  ref_aaai  ref_acl  ref_emnlp  ref_naacl  iclr  nips  \\\n",
       "0                 46         0        8          4          2     0     0   \n",
       "1                 36         0       13          3          5     0     0   \n",
       "2                  0         0        0          0          0     0     0   \n",
       "3                 21         0        2          1          2     0     0   \n",
       "4                 30         0        4          0          0     0     0   \n",
       "\n",
       "   ref_iclr  ref_nips  \n",
       "0       0.0       1.0  \n",
       "1       0.0       0.0  \n",
       "2       0.0       0.0  \n",
       "3       0.0       0.0  \n",
       "4       0.0       0.0  "
      ]
     },
     "execution_count": 12,
     "metadata": {},
     "output_type": "execute_result"
    }
   ],
   "source": [
    "df.head()"
   ]
  },
  {
   "cell_type": "code",
   "execution_count": 13,
   "metadata": {},
   "outputs": [
    {
     "data": {
      "text/plain": [
       "array(['acl', 'none', 'aaai', 'nips', 'icml', 'emnlp', 'iclr',\n",
       "       'hlt-naacl'], dtype=object)"
      ]
     },
     "execution_count": 13,
     "metadata": {},
     "output_type": "execute_result"
    }
   ],
   "source": [
    "df[\"conference\"].unique()"
   ]
  },
  {
   "cell_type": "markdown",
   "metadata": {},
   "source": [
    "## Grammar check (To do: Readability check)"
   ]
  },
  {
   "cell_type": "code",
   "execution_count": 14,
   "metadata": {},
   "outputs": [],
   "source": [
    "import language_check\n",
    "tool = language_check.LanguageTool('en-GB')\n",
    "df[\"lang_error\"] = 0"
   ]
  },
  {
   "cell_type": "code",
   "execution_count": 15,
   "metadata": {},
   "outputs": [
    {
     "name": "stderr",
     "output_type": "stream",
     "text": [
      "100%|████████████████████████████████████████████████████████████████████████████| 10722/10722 [11:39<00:00, 14.61it/s]\n"
     ]
    }
   ],
   "source": [
    "for n,i in tqdm(enumerate(df[\"title+abstract\"]), total = df.shape[0],  position=0, leave=True):\n",
    "    df.at[n,\"lang_error\"] = len(tool.check(str(i)))\n",
    "# "
   ]
  },
  {
   "cell_type": "markdown",
   "metadata": {},
   "source": [
    "trying to plot histograms for the acceptence status wrt number of grammar errors"
   ]
  },
  {
   "cell_type": "code",
   "execution_count": 16,
   "metadata": {},
   "outputs": [],
   "source": [
    "# import matplotlib.pyplot as plt\n",
    "\n",
    "# true_rows = df[df[\"accepted\"] == 1]\n",
    "# false_rows = df[df[\"accepted\"] == 0]"
   ]
  },
  {
   "cell_type": "markdown",
   "metadata": {},
   "source": [
    "removing outliers"
   ]
  },
  {
   "cell_type": "code",
   "execution_count": 17,
   "metadata": {},
   "outputs": [],
   "source": [
    "# true_temp = true_rows[true_rows[\"lang_error\"]<2000]\n",
    "# false_temp = false_rows[false_rows[\"lang_error\"]<2000]"
   ]
  },
  {
   "cell_type": "code",
   "execution_count": 18,
   "metadata": {},
   "outputs": [],
   "source": [
    "# plt.hist(true_temp['lang_error'], bins = 300)\n",
    "# plt.show()"
   ]
  },
  {
   "cell_type": "code",
   "execution_count": 19,
   "metadata": {},
   "outputs": [],
   "source": [
    "# plt.hist(false_temp['lang_error'], bins = 300)\n",
    "# plt.show()"
   ]
  },
  {
   "cell_type": "code",
   "execution_count": 20,
   "metadata": {},
   "outputs": [
    {
     "data": {
      "text/html": [
       "<div>\n",
       "<style scoped>\n",
       "    .dataframe tbody tr th:only-of-type {\n",
       "        vertical-align: middle;\n",
       "    }\n",
       "\n",
       "    .dataframe tbody tr th {\n",
       "        vertical-align: top;\n",
       "    }\n",
       "\n",
       "    .dataframe thead th {\n",
       "        text-align: right;\n",
       "    }\n",
       "</style>\n",
       "<table border=\"1\" class=\"dataframe\">\n",
       "  <thead>\n",
       "    <tr style=\"text-align: right;\">\n",
       "      <th></th>\n",
       "      <th>title+abstract</th>\n",
       "      <th>references</th>\n",
       "      <th>emails</th>\n",
       "      <th>conference</th>\n",
       "      <th>accepted</th>\n",
       "      <th>content</th>\n",
       "      <th>ref_total_counter</th>\n",
       "      <th>ref_aaai</th>\n",
       "      <th>ref_acl</th>\n",
       "      <th>ref_emnlp</th>\n",
       "      <th>ref_naacl</th>\n",
       "      <th>iclr</th>\n",
       "      <th>nips</th>\n",
       "      <th>ref_iclr</th>\n",
       "      <th>ref_nips</th>\n",
       "      <th>lang_error</th>\n",
       "    </tr>\n",
       "  </thead>\n",
       "  <tbody>\n",
       "    <tr>\n",
       "      <th>0</th>\n",
       "      <td>Bridge Text and Knowledge by Learning Multi-Pr...</td>\n",
       "      <td>[{'title': 'Efficient string matching: an aid ...</td>\n",
       "      <td></td>\n",
       "      <td>acl</td>\n",
       "      <td>1</td>\n",
       "      <td>Introduction Jointly learning text and knowle...</td>\n",
       "      <td>46</td>\n",
       "      <td>0</td>\n",
       "      <td>8</td>\n",
       "      <td>4</td>\n",
       "      <td>2</td>\n",
       "      <td>0</td>\n",
       "      <td>0</td>\n",
       "      <td>0.0</td>\n",
       "      <td>1.0</td>\n",
       "      <td>2</td>\n",
       "    </tr>\n",
       "    <tr>\n",
       "      <th>1</th>\n",
       "      <td>Morphological Inflection Generation with Hard ...</td>\n",
       "      <td>[{'title': 'Paradigm classification in supervi...</td>\n",
       "      <td></td>\n",
       "      <td>acl</td>\n",
       "      <td>1</td>\n",
       "      <td>We present a neural model for morphological i...</td>\n",
       "      <td>36</td>\n",
       "      <td>0</td>\n",
       "      <td>13</td>\n",
       "      <td>3</td>\n",
       "      <td>5</td>\n",
       "      <td>0</td>\n",
       "      <td>0</td>\n",
       "      <td>0.0</td>\n",
       "      <td>0.0</td>\n",
       "      <td>4</td>\n",
       "    </tr>\n",
       "    <tr>\n",
       "      <th>2</th>\n",
       "      <td>Weakly Supervised Cross-Lingual Named Entity R...</td>\n",
       "      <td>[]</td>\n",
       "      <td></td>\n",
       "      <td>acl</td>\n",
       "      <td>1</td>\n",
       "      <td>Named entity recognition (NER) is a fundament...</td>\n",
       "      <td>0</td>\n",
       "      <td>0</td>\n",
       "      <td>0</td>\n",
       "      <td>0</td>\n",
       "      <td>0</td>\n",
       "      <td>0</td>\n",
       "      <td>0</td>\n",
       "      <td>0.0</td>\n",
       "      <td>0.0</td>\n",
       "      <td>2</td>\n",
       "    </tr>\n",
       "    <tr>\n",
       "      <th>3</th>\n",
       "      <td>A Multigraph-based Model for Overlapping Entit...</td>\n",
       "      <td>[{'title': 'Recognising Nested Named Entities ...</td>\n",
       "      <td></td>\n",
       "      <td>none</td>\n",
       "      <td>0</td>\n",
       "      <td>Named entity recognition (NER), or in general...</td>\n",
       "      <td>21</td>\n",
       "      <td>0</td>\n",
       "      <td>2</td>\n",
       "      <td>1</td>\n",
       "      <td>2</td>\n",
       "      <td>0</td>\n",
       "      <td>0</td>\n",
       "      <td>0.0</td>\n",
       "      <td>0.0</td>\n",
       "      <td>3</td>\n",
       "    </tr>\n",
       "    <tr>\n",
       "      <th>4</th>\n",
       "      <td>Improved Neural Relation Detection for Knowled...</td>\n",
       "      <td>[{'title': 'Constraint-based question answerin...</td>\n",
       "      <td></td>\n",
       "      <td>acl</td>\n",
       "      <td>1</td>\n",
       "      <td>Knowledge Base Question-Answering (KBQA) syst...</td>\n",
       "      <td>30</td>\n",
       "      <td>0</td>\n",
       "      <td>4</td>\n",
       "      <td>0</td>\n",
       "      <td>0</td>\n",
       "      <td>0</td>\n",
       "      <td>0</td>\n",
       "      <td>0.0</td>\n",
       "      <td>0.0</td>\n",
       "      <td>1</td>\n",
       "    </tr>\n",
       "  </tbody>\n",
       "</table>\n",
       "</div>"
      ],
      "text/plain": [
       "                                      title+abstract  \\\n",
       "0  Bridge Text and Knowledge by Learning Multi-Pr...   \n",
       "1  Morphological Inflection Generation with Hard ...   \n",
       "2  Weakly Supervised Cross-Lingual Named Entity R...   \n",
       "3  A Multigraph-based Model for Overlapping Entit...   \n",
       "4  Improved Neural Relation Detection for Knowled...   \n",
       "\n",
       "                                          references emails conference  \\\n",
       "0  [{'title': 'Efficient string matching: an aid ...               acl   \n",
       "1  [{'title': 'Paradigm classification in supervi...               acl   \n",
       "2                                                 []               acl   \n",
       "3  [{'title': 'Recognising Nested Named Entities ...              none   \n",
       "4  [{'title': 'Constraint-based question answerin...               acl   \n",
       "\n",
       "   accepted                                            content  \\\n",
       "0         1   Introduction Jointly learning text and knowle...   \n",
       "1         1   We present a neural model for morphological i...   \n",
       "2         1   Named entity recognition (NER) is a fundament...   \n",
       "3         0   Named entity recognition (NER), or in general...   \n",
       "4         1   Knowledge Base Question-Answering (KBQA) syst...   \n",
       "\n",
       "   ref_total_counter  ref_aaai  ref_acl  ref_emnlp  ref_naacl  iclr  nips  \\\n",
       "0                 46         0        8          4          2     0     0   \n",
       "1                 36         0       13          3          5     0     0   \n",
       "2                  0         0        0          0          0     0     0   \n",
       "3                 21         0        2          1          2     0     0   \n",
       "4                 30         0        4          0          0     0     0   \n",
       "\n",
       "   ref_iclr  ref_nips  lang_error  \n",
       "0       0.0       1.0           2  \n",
       "1       0.0       0.0           4  \n",
       "2       0.0       0.0           2  \n",
       "3       0.0       0.0           3  \n",
       "4       0.0       0.0           1  "
      ]
     },
     "execution_count": 20,
     "metadata": {},
     "output_type": "execute_result"
    }
   ],
   "source": [
    "df.head()"
   ]
  },
  {
   "cell_type": "markdown",
   "metadata": {},
   "source": [
    "Readability scores"
   ]
  },
  {
   "cell_type": "code",
   "execution_count": 21,
   "metadata": {},
   "outputs": [],
   "source": [
    "import textstat"
   ]
  },
  {
   "cell_type": "code",
   "execution_count": 22,
   "metadata": {},
   "outputs": [],
   "source": [
    "df[\"ari\"] = 0"
   ]
  },
  {
   "cell_type": "code",
   "execution_count": 23,
   "metadata": {},
   "outputs": [
    {
     "name": "stderr",
     "output_type": "stream",
     "text": [
      "100%|██████████████████████████████████████████████████████████████████████████| 10722/10722 [00:03<00:00, 3272.47it/s]\n"
     ]
    }
   ],
   "source": [
    "for n,i in tqdm(enumerate(df[\"title+abstract\"]), total = df.shape[0],  position=0, leave=True):\n",
    "    df.at[n,\"ari\"] = textstat.automated_readability_index(str(i))"
   ]
  },
  {
   "cell_type": "code",
   "execution_count": 24,
   "metadata": {},
   "outputs": [
    {
     "data": {
      "text/html": [
       "<div>\n",
       "<style scoped>\n",
       "    .dataframe tbody tr th:only-of-type {\n",
       "        vertical-align: middle;\n",
       "    }\n",
       "\n",
       "    .dataframe tbody tr th {\n",
       "        vertical-align: top;\n",
       "    }\n",
       "\n",
       "    .dataframe thead th {\n",
       "        text-align: right;\n",
       "    }\n",
       "</style>\n",
       "<table border=\"1\" class=\"dataframe\">\n",
       "  <thead>\n",
       "    <tr style=\"text-align: right;\">\n",
       "      <th></th>\n",
       "      <th>title+abstract</th>\n",
       "      <th>references</th>\n",
       "      <th>emails</th>\n",
       "      <th>conference</th>\n",
       "      <th>accepted</th>\n",
       "      <th>content</th>\n",
       "      <th>ref_total_counter</th>\n",
       "      <th>ref_aaai</th>\n",
       "      <th>ref_acl</th>\n",
       "      <th>ref_emnlp</th>\n",
       "      <th>ref_naacl</th>\n",
       "      <th>iclr</th>\n",
       "      <th>nips</th>\n",
       "      <th>ref_iclr</th>\n",
       "      <th>ref_nips</th>\n",
       "      <th>lang_error</th>\n",
       "      <th>ari</th>\n",
       "    </tr>\n",
       "  </thead>\n",
       "  <tbody>\n",
       "    <tr>\n",
       "      <th>0</th>\n",
       "      <td>Bridge Text and Knowledge by Learning Multi-Pr...</td>\n",
       "      <td>[{'title': 'Efficient string matching: an aid ...</td>\n",
       "      <td></td>\n",
       "      <td>acl</td>\n",
       "      <td>1</td>\n",
       "      <td>Introduction Jointly learning text and knowle...</td>\n",
       "      <td>46</td>\n",
       "      <td>0</td>\n",
       "      <td>8</td>\n",
       "      <td>4</td>\n",
       "      <td>2</td>\n",
       "      <td>0</td>\n",
       "      <td>0</td>\n",
       "      <td>0.0</td>\n",
       "      <td>1.0</td>\n",
       "      <td>2</td>\n",
       "      <td>19</td>\n",
       "    </tr>\n",
       "    <tr>\n",
       "      <th>1</th>\n",
       "      <td>Morphological Inflection Generation with Hard ...</td>\n",
       "      <td>[{'title': 'Paradigm classification in supervi...</td>\n",
       "      <td></td>\n",
       "      <td>acl</td>\n",
       "      <td>1</td>\n",
       "      <td>We present a neural model for morphological i...</td>\n",
       "      <td>36</td>\n",
       "      <td>0</td>\n",
       "      <td>13</td>\n",
       "      <td>3</td>\n",
       "      <td>5</td>\n",
       "      <td>0</td>\n",
       "      <td>0</td>\n",
       "      <td>0.0</td>\n",
       "      <td>0.0</td>\n",
       "      <td>4</td>\n",
       "      <td>23</td>\n",
       "    </tr>\n",
       "    <tr>\n",
       "      <th>2</th>\n",
       "      <td>Weakly Supervised Cross-Lingual Named Entity R...</td>\n",
       "      <td>[]</td>\n",
       "      <td></td>\n",
       "      <td>acl</td>\n",
       "      <td>1</td>\n",
       "      <td>Named entity recognition (NER) is a fundament...</td>\n",
       "      <td>0</td>\n",
       "      <td>0</td>\n",
       "      <td>0</td>\n",
       "      <td>0</td>\n",
       "      <td>0</td>\n",
       "      <td>0</td>\n",
       "      <td>0</td>\n",
       "      <td>0.0</td>\n",
       "      <td>0.0</td>\n",
       "      <td>2</td>\n",
       "      <td>18</td>\n",
       "    </tr>\n",
       "    <tr>\n",
       "      <th>3</th>\n",
       "      <td>A Multigraph-based Model for Overlapping Entit...</td>\n",
       "      <td>[{'title': 'Recognising Nested Named Entities ...</td>\n",
       "      <td></td>\n",
       "      <td>none</td>\n",
       "      <td>0</td>\n",
       "      <td>Named entity recognition (NER), or in general...</td>\n",
       "      <td>21</td>\n",
       "      <td>0</td>\n",
       "      <td>2</td>\n",
       "      <td>1</td>\n",
       "      <td>2</td>\n",
       "      <td>0</td>\n",
       "      <td>0</td>\n",
       "      <td>0.0</td>\n",
       "      <td>0.0</td>\n",
       "      <td>3</td>\n",
       "      <td>19</td>\n",
       "    </tr>\n",
       "    <tr>\n",
       "      <th>4</th>\n",
       "      <td>Improved Neural Relation Detection for Knowled...</td>\n",
       "      <td>[{'title': 'Constraint-based question answerin...</td>\n",
       "      <td></td>\n",
       "      <td>acl</td>\n",
       "      <td>1</td>\n",
       "      <td>Knowledge Base Question-Answering (KBQA) syst...</td>\n",
       "      <td>30</td>\n",
       "      <td>0</td>\n",
       "      <td>4</td>\n",
       "      <td>0</td>\n",
       "      <td>0</td>\n",
       "      <td>0</td>\n",
       "      <td>0</td>\n",
       "      <td>0.0</td>\n",
       "      <td>0.0</td>\n",
       "      <td>1</td>\n",
       "      <td>20</td>\n",
       "    </tr>\n",
       "  </tbody>\n",
       "</table>\n",
       "</div>"
      ],
      "text/plain": [
       "                                      title+abstract  \\\n",
       "0  Bridge Text and Knowledge by Learning Multi-Pr...   \n",
       "1  Morphological Inflection Generation with Hard ...   \n",
       "2  Weakly Supervised Cross-Lingual Named Entity R...   \n",
       "3  A Multigraph-based Model for Overlapping Entit...   \n",
       "4  Improved Neural Relation Detection for Knowled...   \n",
       "\n",
       "                                          references emails conference  \\\n",
       "0  [{'title': 'Efficient string matching: an aid ...               acl   \n",
       "1  [{'title': 'Paradigm classification in supervi...               acl   \n",
       "2                                                 []               acl   \n",
       "3  [{'title': 'Recognising Nested Named Entities ...              none   \n",
       "4  [{'title': 'Constraint-based question answerin...               acl   \n",
       "\n",
       "   accepted                                            content  \\\n",
       "0         1   Introduction Jointly learning text and knowle...   \n",
       "1         1   We present a neural model for morphological i...   \n",
       "2         1   Named entity recognition (NER) is a fundament...   \n",
       "3         0   Named entity recognition (NER), or in general...   \n",
       "4         1   Knowledge Base Question-Answering (KBQA) syst...   \n",
       "\n",
       "   ref_total_counter  ref_aaai  ref_acl  ref_emnlp  ref_naacl  iclr  nips  \\\n",
       "0                 46         0        8          4          2     0     0   \n",
       "1                 36         0       13          3          5     0     0   \n",
       "2                  0         0        0          0          0     0     0   \n",
       "3                 21         0        2          1          2     0     0   \n",
       "4                 30         0        4          0          0     0     0   \n",
       "\n",
       "   ref_iclr  ref_nips  lang_error  ari  \n",
       "0       0.0       1.0           2   19  \n",
       "1       0.0       0.0           4   23  \n",
       "2       0.0       0.0           2   18  \n",
       "3       0.0       0.0           3   19  \n",
       "4       0.0       0.0           1   20  "
      ]
     },
     "execution_count": 24,
     "metadata": {},
     "output_type": "execute_result"
    }
   ],
   "source": [
    "df.head()"
   ]
  },
  {
   "cell_type": "markdown",
   "metadata": {},
   "source": [
    "TF-IDF (initial) with all the scraped text "
   ]
  },
  {
   "cell_type": "code",
   "execution_count": 25,
   "metadata": {},
   "outputs": [],
   "source": [
    "# x = df[\"title+abstract\"] + \" \" + df[\"emails\"] + \" \" + df[\"content\"]\n",
    "x = df[[\"title+abstract\",\"emails\",\"lang_error\",\"ari\",\"ref_total_counter\",\"ref_aaai\",\"ref_acl\",\"ref_emnlp\",\"ref_naacl\",\"ref_iclr\",\"ref_nips\"]]"
   ]
  },
  {
   "cell_type": "code",
   "execution_count": null,
   "metadata": {},
   "outputs": [],
   "source": []
  },
  {
   "cell_type": "code",
   "execution_count": 26,
   "metadata": {},
   "outputs": [],
   "source": [
    "# y = df[[\"aaai\",\"acl\",\"arxiv\",\"emnlp\",\"hlt-naacl\",\"iclr\",\"icml\",\"nips\",\"none\"]]\n",
    "y = df[\"conference\"]"
   ]
  },
  {
   "cell_type": "code",
   "execution_count": 27,
   "metadata": {},
   "outputs": [],
   "source": [
    "from sklearn.model_selection import train_test_split\n",
    "from sklearn.multiclass import OneVsOneClassifier\n",
    "from sklearn.svm import LinearSVC\n",
    "from sklearn.metrics import classification_report\n",
    "from sklearn.metrics import hamming_loss\n",
    "from sklearn.pipeline import make_pipeline\n",
    "from sklearn.feature_extraction.text import TfidfVectorizer, TfidfTransformer\n",
    "from sklearn.linear_model import LogisticRegression\n",
    "from sklearn.neural_network import MLPClassifier\n",
    "from sklearn.linear_model import LogisticRegressionCV\n",
    "from sklearn.ensemble import ExtraTreesClassifier\n",
    "from sklearn.linear_model import SGDClassifier\n",
    "from sklearn.multiclass import OneVsRestClassifier\n",
    "from sklearn.metrics import f1_score\n",
    "from sklearn.metrics import precision_score\n",
    "from sklearn.metrics import recall_score\n",
    "from sklearn.svm import SVC\n",
    "import numpy as np"
   ]
  },
  {
   "cell_type": "code",
   "execution_count": 28,
   "metadata": {},
   "outputs": [],
   "source": [
    "x, x_test, y, y_test = train_test_split(x, y, test_size=0.75, shuffle = True)\n",
    "x_train, x_test, y_train, y_test = train_test_split(x, y, test_size=0.2, shuffle = True)"
   ]
  },
  {
   "cell_type": "code",
   "execution_count": 29,
   "metadata": {},
   "outputs": [],
   "source": [
    "from stop_words import get_stop_words\n",
    "stopwords = get_stop_words('english')\n",
    "# stopwords.extend(get_stop_words('english'))\n",
    "# stopwords.extend([\" \",\"\",\"this\",\"line\",\"intentionally\",\"left\",\"blank\",\"-\",\"_\",\"|\",\"oy\",\"vero\",\"+\",\"&\",\"x\",\"/\",\"ja\"])"
   ]
  },
  {
   "cell_type": "code",
   "execution_count": 30,
   "metadata": {},
   "outputs": [],
   "source": [
    "text_pipeline = make_pipeline(\n",
    "    TfidfVectorizer( lowercase=True,analyzer='word', stop_words=stopwords,  ngram_range = (1,1)),\n",
    "    TfidfTransformer(),\n",
    "#     LogisticRegression(solver='liblinear', max_iter = 100, multi_class='ovr',  tol=0.01)\n",
    "#     LogisticRegressionCV(cv=2,solver='lbfgs', max_iter = 100, multi_class='multinomial')\n",
    "#     ExtraTreesClassifier(n_estimators=10, max_depth=500, n_jobs=-1, random_state=46, max_leaf_nodes=5000)\n",
    "#     RandomForestClassifier(n_estimators = 100, criterion = 'entropy', random_state = 100)\n",
    "#     GaussianNB()\n",
    "#     SVC(max_iter=2000,probability=True, degree = 5)\n",
    "#     SGDClassifier(loss=\"hinge\",penalty= \"l2\" , max_iter=500, alpha=0.0002, tol=1e-7, epsilon = 0.3, n_iter_no_change=20)\n",
    "    OneVsRestClassifier(SVC(random_state=0, probability=True, verbose =0, gamma = \"auto\", kernel = \"poly\"))\n",
    "#     MLPClassifier(solver='adam', alpha=1e-5,hidden_layer_sizes=(150,100,94), random_state=42, beta_2 = 0.1, beta_1 = 0.1)\n",
    ")\n"
   ]
  },
  {
   "cell_type": "markdown",
   "metadata": {},
   "source": [
    "Classification using other data"
   ]
  },
  {
   "cell_type": "code",
   "execution_count": 31,
   "metadata": {},
   "outputs": [],
   "source": [
    "numeric_pipeline = make_pipeline(\n",
    "#     TfidfVectorizer( lowercase=True,analyzer='word', stop_words=stopwords,  ngram_range = (1,1)),\n",
    "#     TfidfTransformer(),\n",
    "#     LogisticRegression(solver='liblinear', max_iter = 100, multi_class='ovr',  tol=0.01)\n",
    "#     LogisticRegressionCV(cv=2,solver='lbfgs', max_iter = 100, multi_class='multinomial')\n",
    "#     ExtraTreesClassifier(n_estimators=10, max_depth=500, n_jobs=-1, random_state=46, max_leaf_nodes=5000)\n",
    "#     RandomForestClassifier(n_estimators = 100, criterion = 'entropy', random_state = 100)\n",
    "#     GaussianNB()\n",
    "#     SVC(max_iter=2000,probability=True, degree = 5)\n",
    "#     SGDClassifier(loss=\"hinge\",penalty= \"l2\" , max_iter=500, alpha=0.0002, tol=1e-7, epsilon = 0.3, n_iter_no_change=20)\n",
    "    OneVsRestClassifier(SVC(random_state=0, probability=True, verbose =0, gamma = \"auto\", kernel = \"poly\"))\n",
    "#     MLPClassifier(solver='adam', alpha=1e-5,hidden_layer_sizes=(150,100,94), random_state=42, beta_2 = 0.1, beta_1 = 0.1)\n",
    ")\n"
   ]
  },
  {
   "cell_type": "code",
   "execution_count": null,
   "metadata": {},
   "outputs": [
    {
     "name": "stderr",
     "output_type": "stream",
     "text": [
      "C:\\Users\\Sanjit\\Anaconda3\\lib\\site-packages\\sklearn\\feature_extraction\\text.py:300: UserWarning: Your stop_words may be inconsistent with your preprocessing. Tokenizing the stop words generated tokens ['aren', 'can', 'couldn', 'didn', 'doesn', 'don', 'hadn', 'hasn', 'haven', 'isn', 'let', 'll', 'mustn', 're', 'shan', 'shouldn', 've', 'wasn', 'weren', 'won', 'wouldn'] not in stop_words.\n",
      "  'stop_words.' % sorted(inconsistent))\n"
     ]
    }
   ],
   "source": [
    "text_pipeline.fit(x_train[\"title+abstract\"] + \" \" + x_train[\"emails\"], y_train)\n"
   ]
  },
  {
   "cell_type": "code",
   "execution_count": null,
   "metadata": {},
   "outputs": [],
   "source": [
    "numeric_pipeline.fit(x_train[[\"lang_error\",\"ari\",\"ref_total_counter\",\"ref_aaai\",\"ref_acl\",\"ref_emnlp\",\"ref_naacl\",\"ref_iclr\",\"ref_nips\"]], y_train)"
   ]
  },
  {
   "cell_type": "markdown",
   "metadata": {},
   "source": [
    "# Composite hybrid pipeline trial from here"
   ]
  },
  {
   "cell_type": "code",
   "execution_count": null,
   "metadata": {},
   "outputs": [],
   "source": [
    "# vect_word = make_pipeline(TfidfVectorizer(lowercase=True,analyzer='word', stop_words=stopwords,  ngram_range = (1,1)),\n",
    "# TfidfTransformer())"
   ]
  },
  {
   "cell_type": "code",
   "execution_count": null,
   "metadata": {},
   "outputs": [],
   "source": [
    "# tr_vect = vect_word.fit_transform(x_train['title+abstract'])"
   ]
  },
  {
   "cell_type": "code",
   "execution_count": null,
   "metadata": {},
   "outputs": [],
   "source": [
    "# tr_vect = list(tr_vect.toarray())"
   ]
  },
  {
   "cell_type": "code",
   "execution_count": null,
   "metadata": {},
   "outputs": [],
   "source": [
    "# for n,i in tqdm(enumerate(tr_vect),  position=0, leave=True):\n",
    "#     tr_vect[n] = np.append(i , [df[\"lang_error\"] , df[\"ari\"]])"
   ]
  },
  {
   "cell_type": "code",
   "execution_count": null,
   "metadata": {},
   "outputs": [],
   "source": [
    "# pipeline = make_pipeline(\n",
    "#     OneVsRestClassifier(SVC(random_state=0, probability=True, verbose =1))\n",
    "# )"
   ]
  },
  {
   "cell_type": "code",
   "execution_count": null,
   "metadata": {},
   "outputs": [],
   "source": [
    "# pipeline.fit(tr_vect, y_train)"
   ]
  },
  {
   "cell_type": "markdown",
   "metadata": {},
   "source": [
    "# Composite pipeline training done"
   ]
  },
  {
   "cell_type": "code",
   "execution_count": null,
   "metadata": {},
   "outputs": [],
   "source": []
  },
  {
   "cell_type": "code",
   "execution_count": null,
   "metadata": {},
   "outputs": [],
   "source": [
    "text_proba_predictions = text_pipeline.predict_proba(x_test[\"title+abstract\"] + \" \" + x_test[\"emails\"])\n",
    "num_proba_predictions = numeric_pipeline.predict_proba(x_test[[\"lang_error\",\"ari\"]])\n"
   ]
  },
  {
   "cell_type": "code",
   "execution_count": null,
   "metadata": {},
   "outputs": [],
   "source": [
    "final_predictions = (text_proba_predictions * 0.7) + (num_proba_predictions * 0.3) "
   ]
  },
  {
   "cell_type": "code",
   "execution_count": null,
   "metadata": {},
   "outputs": [],
   "source": [
    "# x_test"
   ]
  },
  {
   "cell_type": "code",
   "execution_count": null,
   "metadata": {},
   "outputs": [],
   "source": [
    "labels = [\"aaai\" , \"acl\" , \"emnlp\" , \"hlt-naacl\" , \"iclr\" , \"icml\" , \"nips\" , \"none\"]"
   ]
  },
  {
   "cell_type": "code",
   "execution_count": null,
   "metadata": {},
   "outputs": [],
   "source": [
    "class_predictions = []\n",
    "for i in final_predictions:\n",
    "    temp = np.argmax(i)   \n",
    "    class_predictions.append(labels[temp])"
   ]
  },
  {
   "cell_type": "code",
   "execution_count": null,
   "metadata": {},
   "outputs": [],
   "source": [
    "f1_score(y_test.to_numpy(), class_predictions, average='weighted')"
   ]
  },
  {
   "cell_type": "code",
   "execution_count": null,
   "metadata": {},
   "outputs": [],
   "source": [
    "final_predictions"
   ]
  },
  {
   "cell_type": "markdown",
   "metadata": {},
   "source": [
    "aaai , acl , emnlp , hlt-naacl , iclr , icml , nips , none "
   ]
  },
  {
   "cell_type": "code",
   "execution_count": null,
   "metadata": {},
   "outputs": [],
   "source": [
    "# class_predictions"
   ]
  },
  {
   "cell_type": "code",
   "execution_count": null,
   "metadata": {},
   "outputs": [],
   "source": []
  },
  {
   "cell_type": "code",
   "execution_count": null,
   "metadata": {},
   "outputs": [],
   "source": [
    "df[\"conference\"].value_counts()"
   ]
  },
  {
   "cell_type": "code",
   "execution_count": null,
   "metadata": {},
   "outputs": [],
   "source": [
    "x.head()"
   ]
  },
  {
   "cell_type": "code",
   "execution_count": null,
   "metadata": {},
   "outputs": [],
   "source": [
    "y.head()"
   ]
  },
  {
   "cell_type": "code",
   "execution_count": null,
   "metadata": {},
   "outputs": [],
   "source": []
  }
 ],
 "metadata": {
  "kernelspec": {
   "display_name": "Python 3",
   "language": "python",
   "name": "python3"
  },
  "language_info": {
   "codemirror_mode": {
    "name": "ipython",
    "version": 3
   },
   "file_extension": ".py",
   "mimetype": "text/x-python",
   "name": "python",
   "nbconvert_exporter": "python",
   "pygments_lexer": "ipython3",
   "version": "3.7.3"
  }
 },
 "nbformat": 4,
 "nbformat_minor": 2
}
